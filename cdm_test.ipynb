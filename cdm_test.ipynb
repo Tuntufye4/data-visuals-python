{
 "cells": [
  {
   "cell_type": "code",
   "execution_count": 34,
   "metadata": {},
   "outputs": [],
   "source": [
    "import numpy as np\n",
    "import pandas as pd\n",
    "import seaborn as sns\n",
    "sns.set(color_codes=True)"
   ]
  },
  {
   "cell_type": "code",
   "execution_count": 35,
   "metadata": {},
   "outputs": [],
   "source": [
    "cdm_test=pd.read_csv(\"cdm_test1.csv\")"
   ]
  },
  {
   "cell_type": "code",
   "execution_count": 36,
   "metadata": {},
   "outputs": [
    {
     "data": {
      "text/html": [
       "<div>\n",
       "<style scoped>\n",
       "    .dataframe tbody tr th:only-of-type {\n",
       "        vertical-align: middle;\n",
       "    }\n",
       "\n",
       "    .dataframe tbody tr th {\n",
       "        vertical-align: top;\n",
       "    }\n",
       "\n",
       "    .dataframe thead th {\n",
       "        text-align: right;\n",
       "    }\n",
       "</style>\n",
       "<table border=\"1\" class=\"dataframe\">\n",
       "  <thead>\n",
       "    <tr style=\"text-align: right;\">\n",
       "      <th></th>\n",
       "      <th>month</th>\n",
       "      <th>fsa</th>\n",
       "      <th>probable</th>\n",
       "      <th>vulnerable</th>\n",
       "      <th>any_medical_conditions</th>\n",
       "      <th>fever_chills_shakes</th>\n",
       "      <th>cough</th>\n",
       "      <th>shortness_of_breath</th>\n",
       "      <th>travel_outside_country</th>\n",
       "      <th>contact_with_illness</th>\n",
       "      <th>...</th>\n",
       "      <th>ethnicity</th>\n",
       "      <th>sex</th>\n",
       "      <th>needs</th>\n",
       "      <th>age_1</th>\n",
       "      <th>mental_health_impact</th>\n",
       "      <th>travel_work_school</th>\n",
       "      <th>self_isolating</th>\n",
       "      <th>media_channels</th>\n",
       "      <th>financial_obligations_impact</th>\n",
       "      <th>tobacco_usage</th>\n",
       "    </tr>\n",
       "  </thead>\n",
       "  <tbody>\n",
       "    <tr>\n",
       "      <th>0</th>\n",
       "      <td>April</td>\n",
       "      <td>L6T</td>\n",
       "      <td>1</td>\n",
       "      <td>5.0</td>\n",
       "      <td>y</td>\n",
       "      <td>n</td>\n",
       "      <td>n</td>\n",
       "      <td>n</td>\n",
       "      <td>n</td>\n",
       "      <td>n</td>\n",
       "      <td>...</td>\n",
       "      <td>NaN</td>\n",
       "      <td>NaN</td>\n",
       "      <td>noneOfTheAbove                                ...</td>\n",
       "      <td>45-64</td>\n",
       "      <td>NaN</td>\n",
       "      <td>NaN</td>\n",
       "      <td>NaN</td>\n",
       "      <td>NaN</td>\n",
       "      <td>NaN</td>\n",
       "      <td>NaN</td>\n",
       "    </tr>\n",
       "    <tr>\n",
       "      <th>1</th>\n",
       "      <td>April</td>\n",
       "      <td>M5A</td>\n",
       "      <td>1</td>\n",
       "      <td>5.0</td>\n",
       "      <td>y</td>\n",
       "      <td>n</td>\n",
       "      <td>n</td>\n",
       "      <td>n</td>\n",
       "      <td>n</td>\n",
       "      <td>n</td>\n",
       "      <td>...</td>\n",
       "      <td>NaN</td>\n",
       "      <td>NaN</td>\n",
       "      <td>noneOfTheAbove                                ...</td>\n",
       "      <td>45-64</td>\n",
       "      <td>NaN</td>\n",
       "      <td>NaN</td>\n",
       "      <td>NaN</td>\n",
       "      <td>NaN</td>\n",
       "      <td>NaN</td>\n",
       "      <td>NaN</td>\n",
       "    </tr>\n",
       "    <tr>\n",
       "      <th>2</th>\n",
       "      <td>April</td>\n",
       "      <td>K4A</td>\n",
       "      <td>1</td>\n",
       "      <td>5.0</td>\n",
       "      <td>y</td>\n",
       "      <td>n</td>\n",
       "      <td>n</td>\n",
       "      <td>n</td>\n",
       "      <td>n</td>\n",
       "      <td>n</td>\n",
       "      <td>...</td>\n",
       "      <td>NaN</td>\n",
       "      <td>NaN</td>\n",
       "      <td>financialSupport                              ...</td>\n",
       "      <td>45-64</td>\n",
       "      <td>NaN</td>\n",
       "      <td>NaN</td>\n",
       "      <td>NaN</td>\n",
       "      <td>NaN</td>\n",
       "      <td>NaN</td>\n",
       "      <td>NaN</td>\n",
       "    </tr>\n",
       "    <tr>\n",
       "      <th>3</th>\n",
       "      <td>April</td>\n",
       "      <td>N2A</td>\n",
       "      <td>5</td>\n",
       "      <td>1.0</td>\n",
       "      <td>y</td>\n",
       "      <td>y</td>\n",
       "      <td>y</td>\n",
       "      <td>n</td>\n",
       "      <td>y</td>\n",
       "      <td>y</td>\n",
       "      <td>...</td>\n",
       "      <td>NaN</td>\n",
       "      <td>m</td>\n",
       "      <td>financialSupport                              ...</td>\n",
       "      <td>26-44</td>\n",
       "      <td>noImpact                                      ...</td>\n",
       "      <td>didntTravelBefore                             ...</td>\n",
       "      <td>y                                             ...</td>\n",
       "      <td>tv;facebook                                   ...</td>\n",
       "      <td>rent;transportation;groceries                 ...</td>\n",
       "      <td>quitSmoking                                   ...</td>\n",
       "    </tr>\n",
       "    <tr>\n",
       "      <th>4</th>\n",
       "      <td>April</td>\n",
       "      <td>L8K</td>\n",
       "      <td>5</td>\n",
       "      <td>1.0</td>\n",
       "      <td>y</td>\n",
       "      <td>n</td>\n",
       "      <td>n</td>\n",
       "      <td>n</td>\n",
       "      <td>n</td>\n",
       "      <td>y</td>\n",
       "      <td>...</td>\n",
       "      <td>NaN</td>\n",
       "      <td>m</td>\n",
       "      <td>noneOfTheAbove                                ...</td>\n",
       "      <td>26-44</td>\n",
       "      <td>negatively                                    ...</td>\n",
       "      <td>stillTravelEssential                          ...</td>\n",
       "      <td>n                                             ...</td>\n",
       "      <td>twitter;instagram;facebook;tv                 ...</td>\n",
       "      <td>NaN</td>\n",
       "      <td>y                                             ...</td>\n",
       "    </tr>\n",
       "  </tbody>\n",
       "</table>\n",
       "<p>5 rows × 26 columns</p>\n",
       "</div>"
      ],
      "text/plain": [
       "                            month                   fsa  probable  vulnerable  \\\n",
       "0  April                           L6T                          1         5.0   \n",
       "1  April                           M5A                          1         5.0   \n",
       "2  April                           K4A                          1         5.0   \n",
       "3  April                           N2A                          5         1.0   \n",
       "4  April                           L8K                          5         1.0   \n",
       "\n",
       "  any_medical_conditions fever_chills_shakes       cough shortness_of_breath  \\\n",
       "0             y                   n           n                   n            \n",
       "1             y                   n           n                   n            \n",
       "2             y                   n           n                   n            \n",
       "3             y                   y           y                   n            \n",
       "4             y                   n           n                   n            \n",
       "\n",
       "  travel_outside_country contact_with_illness  ... ethnicity         sex  \\\n",
       "0             n                    n           ...       NaN         NaN   \n",
       "1             n                    n           ...       NaN         NaN   \n",
       "2             n                    n           ...       NaN         NaN   \n",
       "3             y                    y           ...       NaN  m            \n",
       "4             n                    y           ...       NaN  m            \n",
       "\n",
       "                                               needs  age_1  \\\n",
       "0  noneOfTheAbove                                ...  45-64   \n",
       "1  noneOfTheAbove                                ...  45-64   \n",
       "2  financialSupport                              ...  45-64   \n",
       "3  financialSupport                              ...  26-44   \n",
       "4  noneOfTheAbove                                ...  26-44   \n",
       "\n",
       "                                mental_health_impact  \\\n",
       "0                                                NaN   \n",
       "1                                                NaN   \n",
       "2                                                NaN   \n",
       "3  noImpact                                      ...   \n",
       "4  negatively                                    ...   \n",
       "\n",
       "                                  travel_work_school  \\\n",
       "0                                                NaN   \n",
       "1                                                NaN   \n",
       "2                                                NaN   \n",
       "3  didntTravelBefore                             ...   \n",
       "4  stillTravelEssential                          ...   \n",
       "\n",
       "                                      self_isolating  \\\n",
       "0                                                NaN   \n",
       "1                                                NaN   \n",
       "2                                                NaN   \n",
       "3  y                                             ...   \n",
       "4  n                                             ...   \n",
       "\n",
       "                                      media_channels  \\\n",
       "0                                                NaN   \n",
       "1                                                NaN   \n",
       "2                                                NaN   \n",
       "3  tv;facebook                                   ...   \n",
       "4  twitter;instagram;facebook;tv                 ...   \n",
       "\n",
       "                        financial_obligations_impact  \\\n",
       "0                                                NaN   \n",
       "1                                                NaN   \n",
       "2                                                NaN   \n",
       "3  rent;transportation;groceries                 ...   \n",
       "4                                                NaN   \n",
       "\n",
       "                                       tobacco_usage  \n",
       "0                                                NaN  \n",
       "1                                                NaN  \n",
       "2                                                NaN  \n",
       "3  quitSmoking                                   ...  \n",
       "4  y                                             ...  \n",
       "\n",
       "[5 rows x 26 columns]"
      ]
     },
     "execution_count": 36,
     "metadata": {},
     "output_type": "execute_result"
    }
   ],
   "source": [
    "cdm_test.head()"
   ]
  },
  {
   "cell_type": "code",
   "execution_count": 37,
   "metadata": {},
   "outputs": [
    {
     "name": "stderr",
     "output_type": "stream",
     "text": [
      "c:\\users\\hp\\appdata\\local\\programs\\python\\python38-32\\lib\\site-packages\\seaborn\\_decorators.py:36: FutureWarning: Pass the following variables as keyword args: x, y. From version 0.12, the only valid positional argument will be `data`, and passing other arguments without an explicit keyword will result in an error or misinterpretation.\n",
      "  warnings.warn(\n"
     ]
    },
    {
     "data": {
      "text/plain": [
       "<AxesSubplot:xlabel='probable', ylabel='month'>"
      ]
     },
     "execution_count": 37,
     "metadata": {},
     "output_type": "execute_result"
    },
    {
     "data": {
      "image/png": "[encoded data removed]",
      "text/plain": [
       "<Figure size 432x288 with 1 Axes>"
      ]
     },
     "metadata": {},
     "output_type": "display_data"
    }
   ],
   "source": [
    "sns.barplot(cdm_test['probable'], cdm_test['month'])"
   ]
  },
  {
   "cell_type": "code",
   "execution_count": 38,
   "metadata": {},
   "outputs": [
    {
     "name": "stderr",
     "output_type": "stream",
     "text": [
      "c:\\users\\hp\\appdata\\local\\programs\\python\\python38-32\\lib\\site-packages\\seaborn\\_decorators.py:36: FutureWarning: Pass the following variables as keyword args: x, y. From version 0.12, the only valid positional argument will be `data`, and passing other arguments without an explicit keyword will result in an error or misinterpretation.\n",
      "  warnings.warn(\n"
     ]
    },
    {
     "data": {
      "text/plain": [
       "<AxesSubplot:xlabel='vulnerable', ylabel='month'>"
      ]
     },
     "execution_count": 38,
     "metadata": {},
     "output_type": "execute_result"
    },
    {
     "data": {
      "image/png": "[encoded data removed]",
      "text/plain": [
       "<Figure size 432x288 with 1 Axes>"
      ]
     },
     "metadata": {},
     "output_type": "display_data"
    }
   ],
   "source": [
    "sns.barplot(cdm_test['vulnerable'], cdm_test['month'])"
   ]
  },
  {
   "cell_type": "code",
   "execution_count": null,
   "metadata": {},
   "outputs": [],
   "source": []
  }
 ],
 "metadata": {
  "kernelspec": {
   "display_name": "Python 3",
   "language": "python",
   "name": "python3"
  },
  "language_info": {
   "codemirror_mode": {
    "name": "ipython",
    "version": 3
   },
   "file_extension": ".py",
   "mimetype": "text/x-python",
   "name": "python",
   "nbconvert_exporter": "python",
   "pygments_lexer": "ipython3",
   "version": "3.8.3"
  }
 },
 "nbformat": 4,
 "nbformat_minor": 4
}
